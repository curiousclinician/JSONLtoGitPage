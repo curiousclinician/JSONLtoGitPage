{
 "cells": [
  {
   "cell_type": "markdown",
   "id": "fbb1ceff",
   "metadata": {},
   "source": [
    "# Deploying a Website with GitHub Pages\n",
    "This notebook guides you through the process of deploying a website using markdown formatted pages stored in a JSONL file named 'db1.jsonl'. First, we'll set up the environment in Google Colab."
   ]
  },
  {
   "cell_type": "markdown",
   "id": "9331b893",
   "metadata": {},
   "source": [
    "## Environment Setup\n",
    "We need to install the `markdown2` package required for markdown to HTML conversion."
   ]
  },
  {
   "cell_type": "code",
   "execution_count": null,
   "id": "c40005bf",
   "metadata": {},
   "outputs": [],
   "source": [
    "!pip install markdown2"
   ]
  },
  {
   "cell_type": "markdown",
   "id": "cc1724aa",
   "metadata": {},
   "source": [
    "## Step 1: Parsing the JSONL File\n",
    "We'll start by parsing the JSONL file to extract URL and markdown data for each page. The file is assumed to be named 'db1.jsonl'."
   ]
  },
  {
   "cell_type": "code",
   "execution_count": null,
   "id": "da42d8de",
   "metadata": {},
   "outputs": [],
   "source": [
    "import json\n",
    "\n",
    "def parse_jsonl(jsonl_file_path='db1.jsonl'):\n",
    "    data = []\n",
    "    with open(jsonl_file_path, 'r') as file:\n",
    "        for line in file:\n",
    "            data.append(json.loads(line))\n",
    "    return data\n",
    "\n",
    "# Example usage\n",
    "# data = parse_jsonl()"
   ]
  },
  {
   "cell_type": "markdown",
   "id": "dfb11e63",
   "metadata": {},
   "source": [
    "## Step 2: Converting Markdown to HTML\n",
    "Next, we convert the markdown content into HTML."
   ]
  },
  {
   "cell_type": "code",
   "execution_count": null,
   "id": "42d45462",
   "metadata": {},
   "outputs": [],
   "source": [
    "import markdown2\n",
    "\n",
    "def markdown_to_html(markdown_text):\n",
    "    return markdown2.markdown(markdown_text)\n",
    "\n",
    "# Example usage\n",
    "# html_content = markdown_to_html(markdown_data)"
   ]
  },
  {
   "cell_type": "markdown",
   "id": "0b997bb1",
   "metadata": {},
   "source": [
    "## Step 3: Creating the Web Pages\n",
    "Now, let's create individual HTML files for each page."
   ]
  },
  {
   "cell_type": "code",
   "execution_count": null,
   "id": "64c81e93",
   "metadata": {},
   "outputs": [],
   "source": [
    "import os\n",
    "\n",
    "def create_html_files(pages, output_dir='output_directory'):\n",
    "    if not os.path.exists(output_dir):\n",
    "        os.makedirs(output_dir)\n",
    "    for page in pages:\n",
    "        file_path = os.path.join(output_dir, page['URL'] + '.html')\n",
    "        with open(file_path, 'w') as file:\n",
    "            html_content = markdown_to_html(page['markdown'])\n",
    "            file.write(f'<html><head></head><body>{html_content}</body></html>')\n",
    "\n",
    "# Example usage\n",
    "# create_html_files(parsed_data)"
   ]
  },
  {
   "cell_type": "markdown",
   "id": "ba255805",
   "metadata": {},
   "source": [
    "## Step 4: Deploying with GitHub Pages\n",
    "Finally, we'll deploy the website using GitHub Pages."
   ]
  },
  {
   "cell_type": "markdown",
   "id": "c0aaffdf",
   "metadata": {},
   "source": [
    "1. Push the generated HTML files to a GitHub repository.\n",
    "2. Go to the repository settings and enable GitHub Pages for the repository.\n",
    "3. Choose the branch and folder where your HTML files are located.\n",
    "4. Your website should now be live at `https://<username>.github.io/<repository>`."
   ]
  }
 ],
 "metadata": {},
 "nbformat": 4,
 "nbformat_minor": 5
}
